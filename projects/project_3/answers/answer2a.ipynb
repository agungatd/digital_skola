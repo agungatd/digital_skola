{
 "cells": [
  {
   "cell_type": "code",
   "execution_count": 15,
   "metadata": {},
   "outputs": [],
   "source": [
    "import json\n",
    "import pandas as pd\n",
    "import psycopg2 as pg\n",
    "from sqlalchemy import create_engine\n",
    "from zipfile import ZipFile\n",
    "from datetime import date, datetime"
   ]
  },
  {
   "cell_type": "code",
   "execution_count": 16,
   "metadata": {},
   "outputs": [
    {
     "data": {
      "text/html": [
       "<div>\n",
       "<style scoped>\n",
       "    .dataframe tbody tr th:only-of-type {\n",
       "        vertical-align: middle;\n",
       "    }\n",
       "\n",
       "    .dataframe tbody tr th {\n",
       "        vertical-align: top;\n",
       "    }\n",
       "\n",
       "    .dataframe thead th {\n",
       "        text-align: right;\n",
       "    }\n",
       "</style>\n",
       "<table border=\"1\" class=\"dataframe\">\n",
       "  <thead>\n",
       "    <tr style=\"text-align: right;\">\n",
       "      <th></th>\n",
       "      <th>column_name</th>\n",
       "      <th>column_type</th>\n",
       "      <th>is_primary_key</th>\n",
       "      <th>is_unique</th>\n",
       "      <th>is_null_able</th>\n",
       "    </tr>\n",
       "  </thead>\n",
       "  <tbody>\n",
       "    <tr>\n",
       "      <th>0</th>\n",
       "      <td>first_name</td>\n",
       "      <td>varchar(256)</td>\n",
       "      <td>False</td>\n",
       "      <td>False</td>\n",
       "      <td>NOT NULL</td>\n",
       "    </tr>\n",
       "    <tr>\n",
       "      <th>1</th>\n",
       "      <td>last_name</td>\n",
       "      <td>varchar(256)</td>\n",
       "      <td>False</td>\n",
       "      <td>False</td>\n",
       "      <td>NOT NULL</td>\n",
       "    </tr>\n",
       "    <tr>\n",
       "      <th>2</th>\n",
       "      <td>email</td>\n",
       "      <td>varchar(256)</td>\n",
       "      <td>False</td>\n",
       "      <td>False</td>\n",
       "      <td>NOT NULL</td>\n",
       "    </tr>\n",
       "    <tr>\n",
       "      <th>3</th>\n",
       "      <td>address</td>\n",
       "      <td>varchar(256)</td>\n",
       "      <td>False</td>\n",
       "      <td>False</td>\n",
       "      <td>NOT NULL</td>\n",
       "    </tr>\n",
       "    <tr>\n",
       "      <th>4</th>\n",
       "      <td>created_at</td>\n",
       "      <td>timestamp</td>\n",
       "      <td>False</td>\n",
       "      <td>False</td>\n",
       "      <td>NOT NULL</td>\n",
       "    </tr>\n",
       "  </tbody>\n",
       "</table>\n",
       "</div>"
      ],
      "text/plain": [
       "  column_name   column_type  is_primary_key  is_unique is_null_able\n",
       "0  first_name  varchar(256)           False      False     NOT NULL\n",
       "1   last_name  varchar(256)           False      False     NOT NULL\n",
       "2       email  varchar(256)           False      False     NOT NULL\n",
       "3     address  varchar(256)           False      False     NOT NULL\n",
       "4  created_at     timestamp           False      False     NOT NULL"
      ]
     },
     "execution_count": 16,
     "metadata": {},
     "output_type": "execute_result"
    }
   ],
   "source": [
    "data = pd.read_json('../sql/schemas/user_address.json')\n",
    "data"
   ]
  },
  {
   "cell_type": "code",
   "execution_count": 17,
   "metadata": {},
   "outputs": [],
   "source": [
    "data.drop(['is_primary_key', 'is_unique'], axis=1, inplace=True)"
   ]
  },
  {
   "cell_type": "code",
   "execution_count": 18,
   "metadata": {},
   "outputs": [
    {
     "data": {
      "text/plain": [
       "'\\nCREATE TABLE if not exists user_address (\\nfirst_name varchar(256) NOT NULL,last_name varchar(256) NOT NULL,email varchar(256) NOT NULL,address varchar(256) NOT NULL,created_at timestamp NOT NULL)'"
      ]
     },
     "execution_count": 18,
     "metadata": {},
     "output_type": "execute_result"
    }
   ],
   "source": [
    "schema_list = []\n",
    "for i, row in data.iterrows():\n",
    "    row = tuple(row.astype(\"string\"))\n",
    "    row_str = ' '.join(list(row))\n",
    "    schema_list.append(row_str)\n",
    "\n",
    "query = \"\"\"\n",
    "CREATE TABLE if not exists user_address (\n",
    "\"\"\"\n",
    "for i, schema in enumerate(schema_list):\n",
    "    query += schema\n",
    "    if i < len(schema_list) - 1:\n",
    "        query += ','\n",
    "query += ')'\n",
    "query"
   ]
  },
  {
   "cell_type": "code",
   "execution_count": 19,
   "metadata": {},
   "outputs": [],
   "source": [
    "#Init Posgres conn\n",
    "conn = pg.connect(database='shipping_orders',\n",
    "                  user='postgres',\n",
    "                  password='Sukses37',\n",
    "                  host='localhost',\n",
    "                  port='5432')\n",
    "\n",
    "conn.autocommit=True\n",
    "cursor=conn.cursor()"
   ]
  },
  {
   "cell_type": "code",
   "execution_count": 20,
   "metadata": {},
   "outputs": [],
   "source": [
    "# Execute DDL\n",
    "try:\n",
    "    cursor.execute(query)\n",
    "except Exception as e:\n",
    "    print(e)"
   ]
  },
  {
   "cell_type": "code",
   "execution_count": 8,
   "metadata": {},
   "outputs": [
    {
     "data": {
      "text/html": [
       "<div>\n",
       "<style scoped>\n",
       "    .dataframe tbody tr th:only-of-type {\n",
       "        vertical-align: middle;\n",
       "    }\n",
       "\n",
       "    .dataframe tbody tr th {\n",
       "        vertical-align: top;\n",
       "    }\n",
       "\n",
       "    .dataframe thead th {\n",
       "        text-align: right;\n",
       "    }\n",
       "</style>\n",
       "<table border=\"1\" class=\"dataframe\">\n",
       "  <thead>\n",
       "    <tr style=\"text-align: right;\">\n",
       "      <th></th>\n",
       "      <th>first_name</th>\n",
       "      <th>last_name</th>\n",
       "      <th>email</th>\n",
       "      <th>address</th>\n",
       "      <th>created_at</th>\n",
       "    </tr>\n",
       "  </thead>\n",
       "  <tbody>\n",
       "    <tr>\n",
       "      <th>0</th>\n",
       "      <td>Cawuk</td>\n",
       "      <td>Tarihoran</td>\n",
       "      <td>sabriaryani@perum.edu</td>\n",
       "      <td>Jalan Jakarta  No. 7Semarang, Nusa Tenggara Ti...</td>\n",
       "      <td>2018-08-10 20:48:35.506</td>\n",
       "    </tr>\n",
       "    <tr>\n",
       "      <th>1</th>\n",
       "      <td>Darmaji</td>\n",
       "      <td>Januar</td>\n",
       "      <td>jwahyudin@yahoo.com</td>\n",
       "      <td>Gang Soekarno Hatta No. 27Payakumbuh, Maluku U...</td>\n",
       "      <td>2018-06-17 19:31:04.314</td>\n",
       "    </tr>\n",
       "    <tr>\n",
       "      <th>2</th>\n",
       "      <td>Bahuraksa</td>\n",
       "      <td>Mansur</td>\n",
       "      <td>zulfaharyanti@pd.sch.id</td>\n",
       "      <td>Jl. Raya Ujungberung No. 2Palembang, Maluku Ut...</td>\n",
       "      <td>2018-10-28 11:20:50.360</td>\n",
       "    </tr>\n",
       "    <tr>\n",
       "      <th>3</th>\n",
       "      <td>Among</td>\n",
       "      <td>Simanjuntak</td>\n",
       "      <td>kusuma67@perum.id</td>\n",
       "      <td>Jalan Cikutra Timur No. 03Tanjungpinang, Papua...</td>\n",
       "      <td>2018-10-26 00:47:32.831</td>\n",
       "    </tr>\n",
       "    <tr>\n",
       "      <th>4</th>\n",
       "      <td>Calista</td>\n",
       "      <td>Najmudin</td>\n",
       "      <td>gastiutama@gmail.com</td>\n",
       "      <td>Jalan Asia Afrika No. 589Kota Administrasi Jak...</td>\n",
       "      <td>2018-12-14 17:09:49.514</td>\n",
       "    </tr>\n",
       "  </tbody>\n",
       "</table>\n",
       "</div>"
      ],
      "text/plain": [
       "  first_name    last_name                    email  \\\n",
       "0      Cawuk    Tarihoran    sabriaryani@perum.edu   \n",
       "1    Darmaji       Januar      jwahyudin@yahoo.com   \n",
       "2  Bahuraksa       Mansur  zulfaharyanti@pd.sch.id   \n",
       "3      Among  Simanjuntak        kusuma67@perum.id   \n",
       "4    Calista     Najmudin     gastiutama@gmail.com   \n",
       "\n",
       "                                             address              created_at  \n",
       "0  Jalan Jakarta  No. 7Semarang, Nusa Tenggara Ti... 2018-08-10 20:48:35.506  \n",
       "1  Gang Soekarno Hatta No. 27Payakumbuh, Maluku U... 2018-06-17 19:31:04.314  \n",
       "2  Jl. Raya Ujungberung No. 2Palembang, Maluku Ut... 2018-10-28 11:20:50.360  \n",
       "3  Jalan Cikutra Timur No. 03Tanjungpinang, Papua... 2018-10-26 00:47:32.831  \n",
       "4  Jalan Asia Afrika No. 589Kota Administrasi Jak... 2018-12-14 17:09:49.514  "
      ]
     },
     "execution_count": 8,
     "metadata": {},
     "output_type": "execute_result"
    }
   ],
   "source": [
    "# read zip file\n",
    "zf = ZipFile('../temp/dataset-small.zip')\n",
    "df = pd.read_csv(\n",
    "    zf.open('dataset-small.csv'), \n",
    "    header=None, names=data.column_name.tolist(), \n",
    "    parse_dates=['created_at'])\n",
    "df.created_at = pd.to_datetime(df.created_at).dt.tz_localize(None)\n",
    "df.head()"
   ]
  },
  {
   "cell_type": "code",
   "execution_count": 9,
   "metadata": {},
   "outputs": [
    {
     "data": {
      "text/html": [
       "<div>\n",
       "<style scoped>\n",
       "    .dataframe tbody tr th:only-of-type {\n",
       "        vertical-align: middle;\n",
       "    }\n",
       "\n",
       "    .dataframe tbody tr th {\n",
       "        vertical-align: top;\n",
       "    }\n",
       "\n",
       "    .dataframe thead th {\n",
       "        text-align: right;\n",
       "    }\n",
       "</style>\n",
       "<table border=\"1\" class=\"dataframe\">\n",
       "  <thead>\n",
       "    <tr style=\"text-align: right;\">\n",
       "      <th></th>\n",
       "      <th>first_name</th>\n",
       "      <th>last_name</th>\n",
       "      <th>email</th>\n",
       "      <th>address</th>\n",
       "      <th>created_at</th>\n",
       "    </tr>\n",
       "  </thead>\n",
       "  <tbody>\n",
       "    <tr>\n",
       "      <th>0</th>\n",
       "      <td>Cawuk</td>\n",
       "      <td>Tarihoran</td>\n",
       "      <td>sabriaryani@perum.edu</td>\n",
       "      <td>Jalan Jakarta  No. 7Semarang, Nusa Tenggara Ti...</td>\n",
       "      <td>2018-08-10 20:48:35.506</td>\n",
       "    </tr>\n",
       "    <tr>\n",
       "      <th>1</th>\n",
       "      <td>Darmaji</td>\n",
       "      <td>Januar</td>\n",
       "      <td>jwahyudin@yahoo.com</td>\n",
       "      <td>Gang Soekarno Hatta No. 27Payakumbuh, Maluku U...</td>\n",
       "      <td>2018-06-17 19:31:04.314</td>\n",
       "    </tr>\n",
       "    <tr>\n",
       "      <th>2</th>\n",
       "      <td>Bahuraksa</td>\n",
       "      <td>Mansur</td>\n",
       "      <td>zulfaharyanti@pd.sch.id</td>\n",
       "      <td>Jl. Raya Ujungberung No. 2Palembang, Maluku Ut...</td>\n",
       "      <td>2018-10-28 11:20:50.360</td>\n",
       "    </tr>\n",
       "    <tr>\n",
       "      <th>3</th>\n",
       "      <td>Among</td>\n",
       "      <td>Simanjuntak</td>\n",
       "      <td>kusuma67@perum.id</td>\n",
       "      <td>Jalan Cikutra Timur No. 03Tanjungpinang, Papua...</td>\n",
       "      <td>2018-10-26 00:47:32.831</td>\n",
       "    </tr>\n",
       "    <tr>\n",
       "      <th>4</th>\n",
       "      <td>Calista</td>\n",
       "      <td>Najmudin</td>\n",
       "      <td>gastiutama@gmail.com</td>\n",
       "      <td>Jalan Asia Afrika No. 589Kota Administrasi Jak...</td>\n",
       "      <td>2018-12-14 17:09:49.514</td>\n",
       "    </tr>\n",
       "  </tbody>\n",
       "</table>\n",
       "</div>"
      ],
      "text/plain": [
       "  first_name    last_name                    email  \\\n",
       "0      Cawuk    Tarihoran    sabriaryani@perum.edu   \n",
       "1    Darmaji       Januar      jwahyudin@yahoo.com   \n",
       "2  Bahuraksa       Mansur  zulfaharyanti@pd.sch.id   \n",
       "3      Among  Simanjuntak        kusuma67@perum.id   \n",
       "4    Calista     Najmudin     gastiutama@gmail.com   \n",
       "\n",
       "                                             address              created_at  \n",
       "0  Jalan Jakarta  No. 7Semarang, Nusa Tenggara Ti... 2018-08-10 20:48:35.506  \n",
       "1  Gang Soekarno Hatta No. 27Payakumbuh, Maluku U... 2018-06-17 19:31:04.314  \n",
       "2  Jl. Raya Ujungberung No. 2Palembang, Maluku Ut... 2018-10-28 11:20:50.360  \n",
       "3  Jalan Cikutra Timur No. 03Tanjungpinang, Papua... 2018-10-26 00:47:32.831  \n",
       "4  Jalan Asia Afrika No. 589Kota Administrasi Jak... 2018-12-14 17:09:49.514  "
      ]
     },
     "execution_count": 9,
     "metadata": {},
     "output_type": "execute_result"
    }
   ],
   "source": [
    "# filter data created at '2018-02-01' until '2018-12-31'\n",
    "df_filtered = df[(df.created_at >= datetime(2018,2,1)) & (df.created_at <= datetime(2018,12,31))]\n",
    "df_filtered.head()"
   ]
  },
  {
   "cell_type": "code",
   "execution_count": 14,
   "metadata": {},
   "outputs": [],
   "source": [
    "cols = \",\".join([str(i) for i in df_filtered.columns.tolist()])\n",
    "try:\n",
    "    for i, row in df_filtered.iterrows():\n",
    "        sql = \"INSERT INTO user_address (\" +cols + \") VALUES (\" + \"%s,\"*(len(row)-1) + \"%s)\"\n",
    "        cursor.execute(sql, tuple(row))\n",
    "\n",
    "except Exception as e:\n",
    "    print(e)"
   ]
  },
  {
   "cell_type": "code",
   "execution_count": null,
   "metadata": {},
   "outputs": [],
   "source": []
  }
 ],
 "metadata": {
  "kernelspec": {
   "display_name": "Python 3.10.6 64-bit",
   "language": "python",
   "name": "python3"
  },
  "language_info": {
   "codemirror_mode": {
    "name": "ipython",
    "version": 3
   },
   "file_extension": ".py",
   "mimetype": "text/x-python",
   "name": "python",
   "nbconvert_exporter": "python",
   "pygments_lexer": "ipython3",
   "version": "3.10.6"
  },
  "orig_nbformat": 4,
  "vscode": {
   "interpreter": {
    "hash": "4545a6b14ec2f3b5de2e3c7629f1213f24ebd8deb2a26b82d825b48711663c0a"
   }
  }
 },
 "nbformat": 4,
 "nbformat_minor": 2
}
